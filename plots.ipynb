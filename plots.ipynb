{
 "cells": [
  {
   "cell_type": "code",
   "execution_count": null,
   "metadata": {},
   "outputs": [],
   "source": [
    "from simulator import Simulator\n",
    "from q import QPlayer\n",
    "import matplotlib.pyplot as plt\n",
    "from collections import defaultdict\n",
    "import pickle\n",
    "import numpy as np\n",
    "from player import *\n",
    "from mcts import MCTSPlayer"
   ]
  },
  {
   "cell_type": "markdown",
   "metadata": {},
   "source": [
    "### 1. Training QPlayer with 3 Lv1 QPlayers"
   ]
  },
  {
   "cell_type": "code",
   "execution_count": null,
   "metadata": {},
   "outputs": [],
   "source": [
    "Q_new = defaultdict(defaultdict(int).copy)  # action value estimates\n",
    "N_new = defaultdict(defaultdict(int).copy)  # visit counts\n",
    "Q_saved = pickle.load(open('q_weights', 'rb'))\n",
    "N_saved = pickle.load(open('n_weights', 'rb'))\n",
    "Q2_saved = pickle.load(open('q2_weights', 'rb'))\n",
    "N2_saved = pickle.load(open('n2_weights', 'rb'))\n",
    "\n",
    "winners = np.array([0, 0, 0, 0, 0])\n",
    "last = np.copy(winners)\n",
    "rates_1 = []\n",
    "for i in range(150000):\n",
    "    # sim = Simulator.from_start([RandomPlayer, RandomPlayer, RandomPlayer, QPlayer],\n",
    "    #                          params=[{}, {}, {},\n",
    "    #                                    {'Q': Q_new, 'N': N_new,\n",
    "    #                                     'c': .01,\n",
    "    #                                     'depth': 100,\n",
    "    #                                     'num_simulations': 10,\n",
    "    #                                     'alpha': 0.1}],\n",
    "    #                            verbosity=0)\n",
    "    sim = Simulator.from_start([QPlayer, QPlayer, QPlayer, QPlayer],\n",
    "                             params=[{'Q': Q_saved, 'N': N_saved,\n",
    "                                        'c': .01,\n",
    "                                        'depth': 100,\n",
    "                                        'num_simulations': 10,\n",
    "                                        'alpha': 0.1,\n",
    "                                        'learn': False}]*3 + \\\n",
    "                                       [{'Q': Q_new, 'N': N_new,\n",
    "                                        'c': .1,\n",
    "                                        'depth': 100,\n",
    "                                        'num_simulations': 10,\n",
    "                                        'alpha': 0.05}] * 1,\n",
    "                               verbosity=0)\n",
    "    winner = sim.run_game()\n",
    "    winners[winner] += 1\n",
    "    if i % 1000 == 0:\n",
    "        print(i)\n",
    "        print(winners)\n",
    "        print(winners - last)\n",
    "        print((winners[3] / np.sum(winners)) * 100)\n",
    "        print(((winners - last)[3] / np.sum(winners - last)) * 100)\n",
    "        rates_1.append(((winners - last)[3] / np.sum(winners - last)) * 100)\n",
    "        last = np.copy(winners)"
   ]
  },
  {
   "cell_type": "code",
   "execution_count": null,
   "metadata": {},
   "outputs": [],
   "source": [
    "plt.plot(rates_1[1:])\n",
    "plt.ylim(0, 100)\n",
    "plt.xlabel(\"# of training (x1000)\")\n",
    "plt.ylabel(\"% of winning (over the last 1000 games)\")\n",
    "# plt.xticks(range(149), np.arange(1000, 150000, 1000))"
   ]
  },
  {
   "cell_type": "markdown",
   "metadata": {},
   "source": [
    "### 2. Training QPlayer with 3 RandomPlayers"
   ]
  },
  {
   "cell_type": "code",
   "execution_count": null,
   "metadata": {},
   "outputs": [],
   "source": [
    "Q_new = defaultdict(defaultdict(int).copy)  # action value estimates\n",
    "N_new = defaultdict(defaultdict(int).copy)  # visit counts\n",
    "\n",
    "winners = np.array([0, 0, 0, 0, 0])\n",
    "last = np.copy(winners)\n",
    "rates_2 = []\n",
    "for i in range(150000):\n",
    "    sim = Simulator.from_start([RandomPlayer, RandomPlayer, RandomPlayer, QPlayer],\n",
    "                             params=[{}, {}, {},\n",
    "                                       {'Q': Q_new, 'N': N_new,\n",
    "                                        'c': .01,\n",
    "                                        'depth': 100,\n",
    "                                        'num_simulations': 10,\n",
    "                                        'alpha': 0.1}],\n",
    "                               verbosity=0)\n",
    "#     sim = Simulator.from_start([QPlayer, QPlayer, QPlayer, QPlayer],\n",
    "#                              params=[{'Q': Q_saved, 'N': N_saved,\n",
    "#                                         'c': .01,\n",
    "#                                         'depth': 100,\n",
    "#                                         'num_simulations': 10,\n",
    "#                                         'alpha': 0.1,\n",
    "#                                         'learn': False}]*3 + \\\n",
    "#                                        [{'Q': Q_new, 'N': N_new,\n",
    "#                                         'c': .1,\n",
    "#                                         'depth': 100,\n",
    "#                                         'num_simulations': 10,\n",
    "#                                         'alpha': 0.05}] * 1,\n",
    "#                                verbosity=0)\n",
    "    winner = sim.run_game()\n",
    "    winners[winner] += 1\n",
    "    if i % 1000 == 0:\n",
    "        print(i)\n",
    "        print(winners)\n",
    "        print(winners - last)\n",
    "        print((winners[3] / np.sum(winners)) * 100)\n",
    "        print(((winners - last)[3] / np.sum(winners - last)) * 100)\n",
    "        rates_2.append(((winners - last)[3] / np.sum(winners - last)) * 100)\n",
    "        last = np.copy(winners)"
   ]
  },
  {
   "cell_type": "code",
   "execution_count": null,
   "metadata": {},
   "outputs": [],
   "source": [
    "plt.plot(rates_2[1:])\n",
    "plt.ylim(0, 100)\n",
    "plt.xlabel(\"# of training (x1000)\")\n",
    "plt.ylabel(\"% of winning (over the last 1000 games)\")\n",
    "# plt.xticks(range(149), np.arange(1000, 150000, 1000))"
   ]
  },
  {
   "cell_type": "markdown",
   "metadata": {},
   "source": [
    "### 3. Training QPlayer with 3 Lv2 QPlayers"
   ]
  },
  {
   "cell_type": "code",
   "execution_count": null,
   "metadata": {},
   "outputs": [],
   "source": [
    "Q_new = defaultdict(defaultdict(int).copy)  # action value estimates\n",
    "N_new = defaultdict(defaultdict(int).copy)  # visit counts\n",
    "Q_saved = pickle.load(open('q3_weights', 'rb'))\n",
    "N_saved = pickle.load(open('n3_weights', 'rb'))\n",
    "\n",
    "winners = np.array([0, 0, 0, 0, 0])\n",
    "last = np.copy(winners)\n",
    "rates_3 = []\n",
    "for i in range(250000):\n",
    "    sim = Simulator.from_start([QPlayer, QPlayer, QPlayer, QPlayer],\n",
    "                             params=[{'Q': Q_saved, 'N': N_saved,\n",
    "                                        'c': .01,\n",
    "                                        'depth': 100,\n",
    "                                        'num_simulations': 10,\n",
    "                                        'alpha': 0.1,\n",
    "                                        'learn': False}]*3 + \\\n",
    "                                       [{'Q': Q_new, 'N': N_new,\n",
    "                                        'c': .1,\n",
    "                                        'depth': 100,\n",
    "                                        'num_simulations': 10,\n",
    "                                        'alpha': 0.05}] * 1,\n",
    "                               verbosity=0)\n",
    "    winner = sim.run_game()\n",
    "    winners[winner] += 1\n",
    "    if i % 1000 == 0:\n",
    "        print(i)\n",
    "        print(winners)\n",
    "        print(winners - last)\n",
    "        print((winners[3] / np.sum(winners)) * 100)\n",
    "        print(((winners - last)[3] / np.sum(winners - last)) * 100)\n",
    "        rates_3.append(((winners - last)[3] / np.sum(winners - last)) * 100)\n",
    "        last = np.copy(winners)\n",
    "\n",
    "pickle.dump(Q_new, open('q4_weights', 'wb'))\n",
    "pickle.dump(N_new, open('n4_weights', 'wb'))"
   ]
  },
  {
   "cell_type": "code",
   "execution_count": null,
   "metadata": {},
   "outputs": [],
   "source": [
    "plt.plot(rates_3[1:])\n",
    "plt.ylim(0, 100)\n",
    "plt.xlabel(\"# of training (x1000)\")\n",
    "plt.ylabel(\"% of winning (over the last 1000 games)\")"
   ]
  },
  {
   "cell_type": "markdown",
   "metadata": {},
   "source": [
    "### 4. Training QPlayer with 3 HeuristicPlayers"
   ]
  },
  {
   "cell_type": "code",
   "execution_count": null,
   "metadata": {},
   "outputs": [],
   "source": [
    "winners = np.array([0, 0, 0, 0, 0])\n",
    "for i in range(10000):\n",
    "    sim = Simulator.from_start([RandomPlayer, RandomPlayer, RandomPlayer, HeuristicPlayer],\n",
    "                             params=[{}, {}, {}, {}],\n",
    "                               verbosity=0)\n",
    "    winner = sim.run_game()\n",
    "    winners[winner] += 1\n",
    "print((winners[3] / np.sum(winners)) * 100)"
   ]
  },
  {
   "cell_type": "code",
   "execution_count": null,
   "metadata": {},
   "outputs": [],
   "source": [
    "Q_new = defaultdict(defaultdict(int).copy)  # action value estimates\n",
    "N_new = defaultdict(defaultdict(int).copy)  # visit counts\n",
    "\n",
    "winners = np.array([0, 0, 0, 0, 0])\n",
    "last = np.copy(winners)\n",
    "rates_4 = []\n",
    "for i in range(150000):\n",
    "    sim = Simulator.from_start([HeuristicPlayer, HeuristicPlayer, HeuristicPlayer, QPlayer],\n",
    "                             params=[{}, {}, {},\n",
    "                                       {'Q': Q_new, 'N': N_new,\n",
    "                                        'c': .1,\n",
    "                                        'depth': 100,\n",
    "                                        'num_simulations': 10,\n",
    "                                        'alpha': 0.05}],\n",
    "                               verbosity=0)\n",
    "    winner = sim.run_game()\n",
    "    winners[winner] += 1\n",
    "    if i % 1000 == 0:\n",
    "        print(i)\n",
    "        print(winners)\n",
    "        print(winners - last)\n",
    "        print((winners[3] / np.sum(winners)) * 100)\n",
    "        print(((winners - last)[3] / np.sum(winners - last)) * 100)\n",
    "        rates_4.append(((winners - last)[3] / np.sum(winners - last)) * 100)\n",
    "        last = np.copy(winners)\n",
    "\n",
    "pickle.dump(Q_new, open('q_weights_heu', 'wb'))\n",
    "pickle.dump(N_new, open('n_weights_heu', 'wb'))"
   ]
  },
  {
   "cell_type": "code",
   "execution_count": null,
   "metadata": {},
   "outputs": [],
   "source": [
    "plt.plot(rates_4[1:])\n",
    "plt.ylim(0, 100)\n",
    "plt.xlabel(\"# of training (x1000)\")\n",
    "plt.ylabel(\"% of winning (over the last 1000 games)\")"
   ]
  },
  {
   "cell_type": "markdown",
   "metadata": {},
   "source": [
    "### 5. Comparing 3 different levels of trained QPlayers"
   ]
  },
  {
   "cell_type": "code",
   "execution_count": null,
   "metadata": {},
   "outputs": [],
   "source": [
    "Q_1 = pickle.load(open('q_weights', 'rb'))\n",
    "N_1 = pickle.load(open('n_weights', 'rb'))\n",
    "Q_2 = pickle.load(open('q3_weights', 'rb'))\n",
    "N_2 = pickle.load(open('n3_weights', 'rb'))\n",
    "Q_3 = pickle.load(open('q4_weights', 'rb'))\n",
    "N_3 = pickle.load(open('n4_weights', 'rb'))"
   ]
  },
  {
   "cell_type": "code",
   "execution_count": null,
   "metadata": {},
   "outputs": [],
   "source": [
    "### Lv1\n",
    "winners = np.array([0, 0, 0, 0, 0])\n",
    "for i in range(10000):\n",
    "    sim = Simulator.from_start([RandomPlayer, RandomPlayer, RandomPlayer, QPlayer],\n",
    "                             params=[{}, {}, {},\n",
    "                                       {'Q': Q_1, 'N': N_1,\n",
    "                                        'c': .1,\n",
    "                                        'depth': 100,\n",
    "                                        'num_simulations': 10,\n",
    "                                        'alpha': 0.05,\n",
    "                                       'learn': False}],\n",
    "                               verbosity=0)\n",
    "    winner = sim.run_game()\n",
    "    winners[winner] += 1\n",
    "print((winners[3] / np.sum(winners)) * 100)"
   ]
  },
  {
   "cell_type": "code",
   "execution_count": null,
   "metadata": {},
   "outputs": [],
   "source": [
    "### Lv2\n",
    "winners = np.array([0, 0, 0, 0, 0])\n",
    "for i in range(10000):\n",
    "    sim = Simulator.from_start([RandomPlayer, RandomPlayer, RandomPlayer, QPlayer],\n",
    "                             params=[{}, {}, {},\n",
    "                                       {'Q': Q_2, 'N': N_2,\n",
    "                                        'c': .1,\n",
    "                                        'depth': 100,\n",
    "                                        'num_simulations': 10,\n",
    "                                        'alpha': 0.05,\n",
    "                                       'learn': False}],\n",
    "                               verbosity=0)\n",
    "    winner = sim.run_game()\n",
    "    winners[winner] += 1\n",
    "print((winners[3] / np.sum(winners)) * 100)"
   ]
  },
  {
   "cell_type": "code",
   "execution_count": null,
   "metadata": {},
   "outputs": [],
   "source": [
    "### Lv3\n",
    "winners = np.array([0, 0, 0, 0, 0])\n",
    "for i in range(10000):\n",
    "    sim = Simulator.from_start([RandomPlayer, RandomPlayer, RandomPlayer, QPlayer],\n",
    "                             params=[{}, {}, {},\n",
    "                                       {'Q': Q_3, 'N': N_3,\n",
    "                                        'c': .1,\n",
    "                                        'depth': 100,\n",
    "                                        'num_simulations': 10,\n",
    "                                        'alpha': 0.05,\n",
    "                                       'learn': False}],\n",
    "                               verbosity=0)\n",
    "    winner = sim.run_game()\n",
    "    winners[winner] += 1\n",
    "print((winners[3] / np.sum(winners)) * 100)"
   ]
  },
  {
   "cell_type": "code",
   "execution_count": null,
   "metadata": {},
   "outputs": [],
   "source": [
    "### Heuristic vs Lv1 vs Lv2 vs Lv3\n",
    "winners = np.array([0, 0, 0, 0, 0])\n",
    "for i in range(10000):\n",
    "    sim = Simulator.from_start([HeuristicPlayer, QPlayer, QPlayer, QPlayer],\n",
    "                             params=[{}, {'Q': Q_1, 'N': N_1,\n",
    "                                        'c': .1,\n",
    "                                        'depth': 100,\n",
    "                                        'num_simulations': 10,\n",
    "                                        'alpha': 0.05,\n",
    "                                       'learn': False}, \n",
    "                                     {'Q': Q_2, 'N': N_2,\n",
    "                                        'c': .1,\n",
    "                                        'depth': 100,\n",
    "                                        'num_simulations': 10,\n",
    "                                        'alpha': 0.05,\n",
    "                                       'learn': False},\n",
    "                                       {'Q': Q_3, 'N': N_3,\n",
    "                                        'c': .1,\n",
    "                                        'depth': 100,\n",
    "                                        'num_simulations': 10,\n",
    "                                        'alpha': 0.05,\n",
    "                                       'learn': False}],\n",
    "                               verbosity=0)\n",
    "    winner = sim.run_game()\n",
    "    winners[winner] += 1\n",
    "print((winners[0] / np.sum(winners)) * 100)\n",
    "print((winners[1] / np.sum(winners)) * 100)\n",
    "print((winners[2] / np.sum(winners)) * 100)\n",
    "print((winners[3] / np.sum(winners)) * 100)"
   ]
  },
  {
   "cell_type": "code",
   "execution_count": null,
   "metadata": {},
   "outputs": [],
   "source": [
    "### Lv3 vs 3*Lv2\n",
    "winners = np.array([0, 0, 0, 0, 0])\n",
    "for i in range(10000):\n",
    "    sim = Simulator.from_start([RandomPlayer, RandomPlayer, RandomPlayer, QPlayer],\n",
    "                             params=[{'Q': Q_2, 'N': N_2,\n",
    "                                        'c': .01,\n",
    "                                        'depth': 100,\n",
    "                                        'num_simulations': 10,\n",
    "                                        'alpha': 0.1,\n",
    "                                        'learn': False}]*3 + \\\n",
    "                                       [{'Q': Q_3, 'N': N_3,\n",
    "                                        'c': .1,\n",
    "                                        'depth': 100,\n",
    "                                        'num_simulations': 10,\n",
    "                                        'alpha': 0.05,\n",
    "                                        'learn': False}] * 1,\n",
    "                               verbosity=0)\n",
    "    winner = sim.run_game()\n",
    "    winners[winner] += 1\n",
    "print((winners[3] / np.sum(winners)) * 100)"
   ]
  },
  {
   "cell_type": "markdown",
   "metadata": {},
   "source": [
    "### 6. Training MCTSPlayer with 3 HeuristicPlayers"
   ]
  },
  {
   "cell_type": "code",
   "execution_count": null,
   "metadata": {},
   "outputs": [],
   "source": [
    "Q_new = defaultdict(defaultdict(int).copy)  # action value estimates\n",
    "N_new = defaultdict(defaultdict(int).copy)  # visit counts\n",
    "\n",
    "winners = np.array([0, 0, 0, 0, 0])\n",
    "last = np.copy(winners)\n",
    "rates_6 = []\n",
    "for i in range(1000):\n",
    "    sim = Simulator.from_start([HeuristicPlayer, HeuristicPlayer, HeuristicPlayer, MCTSPlayer],\n",
    "                             params=[{}, {}, {},\n",
    "                                       {'Q': Q_new, 'N': N_new,\n",
    "                                        'c': .1,\n",
    "                                        'depth': 5,\n",
    "                                        'num_simulations': 10,\n",
    "                                        'alpha': 0.05}],\n",
    "                               verbosity=0)\n",
    "    winner = sim.run_game()\n",
    "    winners[winner] += 1\n",
    "    if i % 10 == 0:\n",
    "        print(i)\n",
    "        print(winners)\n",
    "        print(winners - last)\n",
    "        print((winners[3] / np.sum(winners)) * 100)\n",
    "        print(((winners - last)[3] / np.sum(winners - last)) * 100)\n",
    "        rates_6.append(((winners - last)[3] / np.sum(winners - last)) * 100)\n",
    "        last = np.copy(winners)\n",
    "\n",
    "pickle.dump(Q_new, open('q_weights_heu_mcts', 'wb'))\n",
    "pickle.dump(N_new, open('n_weights_heu_mcts', 'wb'))"
   ]
  },
  {
   "cell_type": "code",
   "execution_count": null,
   "metadata": {},
   "outputs": [],
   "source": [
    "plt.plot(rates_6[1:])\n",
    "plt.ylim(0, 100)\n",
    "plt.xlabel(\"# of training (x1000)\")\n",
    "plt.ylabel(\"% of winning (over the last 1000 games)\")"
   ]
  },
  {
   "cell_type": "markdown",
   "metadata": {},
   "source": [
    "### 7. Training MCTSPlaying with 3 RandomPlayers"
   ]
  },
  {
   "cell_type": "code",
   "execution_count": null,
   "metadata": {},
   "outputs": [],
   "source": [
    "Q_new = defaultdict(defaultdict(int).copy)  # action value estimates\n",
    "N_new = defaultdict(defaultdict(int).copy)  # visit counts\n",
    "\n",
    "winners = np.array([0, 0, 0, 0, 0])\n",
    "last = np.copy(winners)\n",
    "rates_7 = []\n",
    "for i in range(150000):\n",
    "    sim = Simulator.from_start([RandomPlayer, RandomPlayer, RandomPlayer, MCTSPlayer],\n",
    "                             params=[{}, {}, {},\n",
    "                                       {'Q': Q_new, 'N': N_new,\n",
    "                                        'c': .1,\n",
    "                                        'depth': 10,\n",
    "                                        'num_simulations': 10,\n",
    "                                        'alpha': 0.05}],\n",
    "                               verbosity=0)\n",
    "    winner = sim.run_game()\n",
    "    winners[winner] += 1\n",
    "    if i % 1000 == 0:\n",
    "        print(i)\n",
    "        print(winners)\n",
    "        print(winners - last)\n",
    "        print((winners[3] / np.sum(winners)) * 100)\n",
    "        print(((winners - last)[3] / np.sum(winners - last)) * 100)\n",
    "        rates_7.append(((winners - last)[3] / np.sum(winners - last)) * 100)\n",
    "        last = np.copy(winners)\n",
    "\n",
    "pickle.dump(Q_new, open('q1_weights_mcts', 'wb'))\n",
    "pickle.dump(N_new, open('n1_weights_mcts', 'wb'))"
   ]
  },
  {
   "cell_type": "code",
   "execution_count": null,
   "metadata": {},
   "outputs": [],
   "source": [
    "plt.plot(rates_7[1:])\n",
    "plt.ylim(0, 100)\n",
    "plt.xlabel(\"# of training (x1000)\")\n",
    "plt.ylabel(\"% of winning (over the last 1000 games)\")"
   ]
  },
  {
   "cell_type": "markdown",
   "metadata": {},
   "source": [
    "### 8. Training MCSTPlayer with 3 Lv1 MCSTPlayers"
   ]
  },
  {
   "cell_type": "code",
   "execution_count": null,
   "metadata": {},
   "outputs": [],
   "source": [
    "Q_new = defaultdict(defaultdict(int).copy)  # action value estimates\n",
    "N_new = defaultdict(defaultdict(int).copy)  # visit counts\n",
    "Q_saved = pickle.load(open('q1_weights_mcts', 'rb'))\n",
    "N_saved = pickle.load(open('n1_weights_mcts', 'rb'))\n",
    "\n",
    "winners = np.array([0, 0, 0, 0, 0])\n",
    "last = np.copy(winners)\n",
    "rates_8 = []\n",
    "for i in range(150000):\n",
    "    sim = Simulator.from_start([MCSTPlayer, MCSTPlayer, MCSTPlayer, MCSTPlayer],\n",
    "                             params=[{'Q': Q_saved, 'N': N_saved,\n",
    "                                        'c': .01,\n",
    "                                        'depth': 10,\n",
    "                                        'num_simulations': 10,\n",
    "                                        'alpha': 0.1,\n",
    "                                        'learn': False}]*3 + \\\n",
    "                                       [{'Q': Q_new, 'N': N_new,\n",
    "                                        'c': .1,\n",
    "                                        'depth': 10,\n",
    "                                        'num_simulations': 10,\n",
    "                                        'alpha': 0.05}] * 1,\n",
    "                               verbosity=0)\n",
    "    winner = sim.run_game()\n",
    "    winners[winner] += 1\n",
    "    if i % 1000 == 0:\n",
    "        print(i)\n",
    "        print(winners)\n",
    "        print(winners - last)\n",
    "        print((winners[3] / np.sum(winners)) * 100)\n",
    "        print(((winners - last)[3] / np.sum(winners - last)) * 100)\n",
    "        rates_8.append(((winners - last)[3] / np.sum(winners - last)) * 100)\n",
    "        last = np.copy(winners)\n",
    "        \n",
    "pickle.dump(Q_new, open('q2_weights_mcts', 'wb'))\n",
    "pickle.dump(N_new, open('n2_weights_mcts', 'wb'))"
   ]
  },
  {
   "cell_type": "code",
   "execution_count": null,
   "metadata": {},
   "outputs": [],
   "source": [
    "plt.plot(rates_8[1:])\n",
    "plt.ylim(0, 100)\n",
    "plt.xlabel(\"# of training (x1000)\")\n",
    "plt.ylabel(\"% of winning (over the last 1000 games)\")"
   ]
  }
 ],
 "metadata": {
  "kernelspec": {
   "display_name": "Python 3",
   "language": "python",
   "name": "python3"
  },
  "language_info": {
   "codemirror_mode": {
    "name": "ipython",
    "version": 3
   },
   "file_extension": ".py",
   "mimetype": "text/x-python",
   "name": "python",
   "nbconvert_exporter": "python",
   "pygments_lexer": "ipython3",
   "version": "3.8.3"
  }
 },
 "nbformat": 4,
 "nbformat_minor": 4
}
